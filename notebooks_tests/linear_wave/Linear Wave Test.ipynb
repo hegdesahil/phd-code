{
 "cells": [
  {
   "cell_type": "code",
   "execution_count": 1,
   "metadata": {},
   "outputs": [],
   "source": [
    "import mpi4py"
   ]
  },
  {
   "cell_type": "code",
   "execution_count": 2,
   "metadata": {},
   "outputs": [
    {
     "ename": "ModuleNotFoundError",
     "evalue": "No module named 'phd'",
     "output_type": "error",
     "traceback": [
      "\u001b[0;31m---------------------------------------------------------------------------\u001b[0m",
      "\u001b[0;31mModuleNotFoundError\u001b[0m                       Traceback (most recent call last)",
      "\u001b[0;32m<ipython-input-2-ed5a19a362d1>\u001b[0m in \u001b[0;36m<module>\u001b[0;34m\u001b[0m\n\u001b[0;32m----> 1\u001b[0;31m \u001b[0;32mimport\u001b[0m \u001b[0mphd\u001b[0m\u001b[0;34m\u001b[0m\u001b[0;34m\u001b[0m\u001b[0m\n\u001b[0m\u001b[1;32m      2\u001b[0m \u001b[0;32mimport\u001b[0m \u001b[0mnumpy\u001b[0m \u001b[0;32mas\u001b[0m \u001b[0mnp\u001b[0m\u001b[0;34m\u001b[0m\u001b[0;34m\u001b[0m\u001b[0m\n",
      "\u001b[0;31mModuleNotFoundError\u001b[0m: No module named 'phd'"
     ]
    }
   ],
   "source": [
    "import phd\n",
    "import numpy as np"
   ]
  },
  {
   "cell_type": "code",
   "execution_count": null,
   "metadata": {},
   "outputs": [],
   "source": [
    "def create_particles(gamma, nx=10):\n",
    "\n",
    "    Lx = 1.    # domain size in x\n",
    "    dx = Lx/nx # spacing between particles\n",
    "    n = nx*nx  # number of points\n",
    "\n",
    "    rho0 = 1.0\n",
    "    vel0 = 0.0\n",
    "    pre0 = 1.0\n",
    "\n",
    "    A = 1.0e-6\n",
    "    w = 2*np.pi\n",
    "    k = 2*np.pi\n",
    "\n",
    "    # create particle container\n",
    "    particles = phd.HydroParticleCreator(n)\n",
    "\n",
    "    particles[\"density\"][:] = rho0\n",
    "    particles[\"velocity-x\"][:] = vel0\n",
    "    particles[\"velocity-y\"][:] = 0.0\n",
    "    particles[\"pressure\"][:] = pre0/gamma\n",
    "\n",
    "    part = 0\n",
    "    for i in range(nx):\n",
    "        for j in range(nx):\n",
    "            x = (i+0.5)*dx; y = (j+0.5)*dx\n",
    "\n",
    "            particles[\"density\"][part] += A*np.sin(k*x)\n",
    "            particles[\"velocity-x\"][part] += (w/k)*A/rho0*np.sin(k*x)\n",
    "            particles[\"pressure\"][part] += (w/k)**2*A*np.sin(k*x)\n",
    "\n",
    "            particles[\"position-x\"][part] = x\n",
    "            particles[\"position-y\"][part] = y\n",
    "            particles[\"ids\"][part] = part\n",
    "            part += 1\n",
    "\n",
    "    return particles"
   ]
  },
  {
   "cell_type": "code",
   "execution_count": null,
   "metadata": {},
   "outputs": [],
   "source": [
    "for i in [10, 20, 40, 80, 160]:\n",
    "\n",
    "    gamma = 5./3.\n",
    "    particles = create_particles(gamma, nx=i)\n",
    "\n",
    "    # computation related to boundaries\n",
    "    domain_manager = phd.DomainManager(\n",
    "            xmin=[0., 0.], xmax=[1., 1.], initial_radius=0.1)\n",
    "\n",
    "    # create voronoi mesh\n",
    "    mesh = phd.Mesh(regularize=False)\n",
    "\n",
    "    # computation\n",
    "    integrator = phd.MovingMeshMUSCLHancock()\n",
    "    integrator.set_mesh(mesh)\n",
    "    integrator.set_riemann(phd.HLLC())\n",
    "    integrator.set_particles(particles)\n",
    "    integrator.set_domain_manager(domain_manager)\n",
    "    integrator.set_boundary_condition(phd.Periodic())\n",
    "    integrator.set_reconstruction(phd.PieceWiseLinear(gizmo_limiter=False))\n",
    "    integrator.set_equation_state(phd.IdealGas(gamma=gamma))\n",
    "\n",
    "    # add finish criteria\n",
    "    simulation_time_manager = phd.SimulationTimeManager()\n",
    "    simulation_time_manager.add_finish(phd.Time(time_max=1.0))\n",
    "\n",
    "    # output last step\n",
    "    output = phd.FinalOutput()\n",
    "    output.set_writer(phd.Hdf5())\n",
    "    simulation_time_manager.add_output(output)\n",
    "\n",
    "    # output initial data \n",
    "    output = phd.InitialOutput()\n",
    "    output.set_writer(phd.Hdf5())\n",
    "    simulation_time_manager.add_output(output)\n",
    "\n",
    "    # Create simulator\n",
    "    simulation = phd.Simulation(simulation_name=\"linear_wave_\"+str(i), colored_logs=True)\n",
    "    simulation.set_integrator(integrator)\n",
    "    simulation.set_simulation_time_manager(simulation_time_manager)\n",
    "    simulation.initialize()\n",
    "    simulation.solve()"
   ]
  }
 ],
 "metadata": {
  "kernelspec": {
   "display_name": "Python 3",
   "language": "python",
   "name": "python3"
  },
  "language_info": {
   "codemirror_mode": {
    "name": "ipython",
    "version": 3
   },
   "file_extension": ".py",
   "mimetype": "text/x-python",
   "name": "python",
   "nbconvert_exporter": "python",
   "pygments_lexer": "ipython3",
   "version": "3.8.5"
  }
 },
 "nbformat": 4,
 "nbformat_minor": 4
}
